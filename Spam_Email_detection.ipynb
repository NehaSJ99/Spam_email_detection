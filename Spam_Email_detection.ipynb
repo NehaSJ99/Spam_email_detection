{
 "cells": [
  {
   "cell_type": "code",
   "execution_count": 49,
   "id": "4a5065af-7e32-47e8-8475-9b65146696dc",
   "metadata": {},
   "outputs": [],
   "source": [
    "import numpy as np\n",
    "import pandas as pd\n",
    "from sklearn.model_selection import train_test_split\n",
    "from sklearn.feature_extraction.text import CountVectorizer\n",
    "from sklearn.linear_model import LogisticRegression\n",
    "from sklearn.metrics import accuracy_score,confusion_matrix,classification_report"
   ]
  },
  {
   "cell_type": "code",
   "execution_count": 50,
   "id": "32d710d7-f366-4701-bdb1-b4109fde8c10",
   "metadata": {},
   "outputs": [],
   "source": [
    "mail_df = pd.read_csv('mail_data.csv')"
   ]
  },
  {
   "cell_type": "code",
   "execution_count": 51,
   "id": "5ce23fc5-bc40-40f8-99bf-e9e1be13cc8b",
   "metadata": {},
   "outputs": [
    {
     "name": "stdout",
     "output_type": "stream",
     "text": [
      "     Category                                            Message\n",
      "0         ham  Go until jurong point, crazy.. Available only ...\n",
      "1         ham                      Ok lar... Joking wif u oni...\n",
      "2        spam  Free entry in 2 a wkly comp to win FA Cup fina...\n",
      "3         ham  U dun say so early hor... U c already then say...\n",
      "4         ham  Nah I don't think he goes to usf, he lives aro...\n",
      "...       ...                                                ...\n",
      "5567     spam  This is the 2nd time we have tried 2 contact u...\n",
      "5568      ham               Will ü b going to esplanade fr home?\n",
      "5569      ham  Pity, * was in mood for that. So...any other s...\n",
      "5570      ham  The guy did some bitching but I acted like i'd...\n",
      "5571      ham                         Rofl. Its true to its name\n",
      "\n",
      "[5572 rows x 2 columns]\n"
     ]
    }
   ],
   "source": [
    "print(mail_df)"
   ]
  },
  {
   "cell_type": "code",
   "execution_count": 52,
   "id": "0d20c896-8675-4a35-beec-02d4c9a01ca9",
   "metadata": {},
   "outputs": [],
   "source": [
    "data = mail_df.where((pd.notnull(mail_df)),'')"
   ]
  },
  {
   "cell_type": "code",
   "execution_count": 53,
   "id": "2fa42650-9bc6-4050-a4fd-57150cc979e9",
   "metadata": {},
   "outputs": [
    {
     "name": "stdout",
     "output_type": "stream",
     "text": [
      "     Category                                            Message\n",
      "0         ham  Go until jurong point, crazy.. Available only ...\n",
      "1         ham                      Ok lar... Joking wif u oni...\n",
      "2        spam  Free entry in 2 a wkly comp to win FA Cup fina...\n",
      "3         ham  U dun say so early hor... U c already then say...\n",
      "4         ham  Nah I don't think he goes to usf, he lives aro...\n",
      "...       ...                                                ...\n",
      "5567     spam  This is the 2nd time we have tried 2 contact u...\n",
      "5568      ham               Will ü b going to esplanade fr home?\n",
      "5569      ham  Pity, * was in mood for that. So...any other s...\n",
      "5570      ham  The guy did some bitching but I acted like i'd...\n",
      "5571      ham                         Rofl. Its true to its name\n",
      "\n",
      "[5572 rows x 2 columns]\n"
     ]
    }
   ],
   "source": [
    "print(data)"
   ]
  },
  {
   "cell_type": "code",
   "execution_count": 54,
   "id": "bdd17118-b39d-4483-8e85-ce2729b4c545",
   "metadata": {},
   "outputs": [],
   "source": [
    "X_train, X_test, y_train, y_test = train_test_split(mail_df['Message'], mail_df['Category'], test_size=0.2, random_state=42)"
   ]
  },
  {
   "cell_type": "code",
   "execution_count": 55,
   "id": "9e87e191-5c43-4601-aecc-bb3e3665a185",
   "metadata": {},
   "outputs": [
    {
     "name": "stdout",
     "output_type": "stream",
     "text": [
      "1978    Reply to win £100 weekly! Where will the 2006 ...\n",
      "3989    Hello. Sort of out in town already. That . So ...\n",
      "3935     How come guoyang go n tell her? Then u told her?\n",
      "4078    Hey sathya till now we dint meet not even a si...\n",
      "4086    Orange brings you ringtones from all time Char...\n",
      "                              ...                        \n",
      "3772    Hi, wlcome back, did wonder if you got eaten b...\n",
      "5191                               Sorry, I'll call later\n",
      "5226        Prabha..i'm soryda..realy..frm heart i'm sory\n",
      "5390                           Nt joking seriously i told\n",
      "860               Did he just say somebody is named tampa\n",
      "Name: Message, Length: 4457, dtype: object\n"
     ]
    }
   ],
   "source": [
    "print(X_train)"
   ]
  },
  {
   "cell_type": "code",
   "execution_count": 56,
   "id": "f104d268-e920-41b3-993e-af6ac04ffc57",
   "metadata": {},
   "outputs": [
    {
     "name": "stdout",
     "output_type": "stream",
     "text": [
      "3245    Squeeeeeze!! This is christmas hug.. If u lik ...\n",
      "944     And also I've sorta blown him off a couple tim...\n",
      "1044    Mmm thats better now i got a roast down me! i...\n",
      "2484        Mm have some kanji dont eat anything heavy ok\n",
      "812     So there's a ring that comes with the guys cos...\n",
      "                              ...                        \n",
      "4264    Den only weekdays got special price... Haiz......\n",
      "2439         I not busy juz dun wan 2 go so early.. Hee..\n",
      "5556    Yes i have. So that's why u texted. Pshew...mi...\n",
      "4205    How are you enjoying this semester? Take care ...\n",
      "4293                                                G.W.R\n",
      "Name: Message, Length: 1115, dtype: object\n"
     ]
    }
   ],
   "source": [
    "print(X_test)"
   ]
  },
  {
   "cell_type": "code",
   "execution_count": 57,
   "id": "56482786-ec23-4b5b-9cac-f7d9a4e1c5c0",
   "metadata": {},
   "outputs": [
    {
     "name": "stdout",
     "output_type": "stream",
     "text": [
      "3245    ham\n",
      "944     ham\n",
      "1044    ham\n",
      "2484    ham\n",
      "812     ham\n",
      "       ... \n",
      "4264    ham\n",
      "2439    ham\n",
      "5556    ham\n",
      "4205    ham\n",
      "4293    ham\n",
      "Name: Category, Length: 1115, dtype: object\n"
     ]
    }
   ],
   "source": [
    "print(y_test)"
   ]
  },
  {
   "cell_type": "code",
   "execution_count": 58,
   "id": "2f959f2d-157e-4ce1-9984-121be66ac282",
   "metadata": {},
   "outputs": [],
   "source": [
    "# Convert text data into numerical features using CountVectorizer\n",
    "vectorizer = CountVectorizer()"
   ]
  },
  {
   "cell_type": "code",
   "execution_count": 59,
   "id": "e691f019-8136-4c41-abad-94c6eb88a667",
   "metadata": {},
   "outputs": [],
   "source": [
    "X_train_vectorized = vectorizer.fit_transform(X_train)\n",
    "X_test_vectorized = vectorizer.transform(X_test)"
   ]
  },
  {
   "cell_type": "code",
   "execution_count": 60,
   "id": "df4ae4e9-b720-42ea-a817-1167cadd3b59",
   "metadata": {},
   "outputs": [
    {
     "name": "stdout",
     "output_type": "stream",
     "text": [
      "  (0, 5687)\t1\n",
      "  (0, 6888)\t3\n",
      "  (0, 7474)\t1\n",
      "  (0, 258)\t1\n",
      "  (0, 7396)\t1\n",
      "  (0, 7437)\t1\n",
      "  (0, 7471)\t1\n",
      "  (0, 6773)\t1\n",
      "  (0, 354)\t1\n",
      "  (0, 2805)\t1\n",
      "  (0, 7555)\t1\n",
      "  (0, 2106)\t1\n",
      "  (0, 1271)\t1\n",
      "  (0, 3364)\t1\n",
      "  (0, 5980)\t1\n",
      "  (0, 6460)\t1\n",
      "  (0, 694)\t1\n",
      "  (0, 2568)\t1\n",
      "  (0, 5999)\t1\n",
      "  (1, 7471)\t1\n",
      "  (1, 3369)\t1\n",
      "  (1, 6304)\t1\n",
      "  (1, 4854)\t1\n",
      "  (1, 4976)\t1\n",
      "  (1, 3603)\t1\n",
      "  :\t:\n",
      "  (4452, 7535)\t1\n",
      "  (4452, 2502)\t1\n",
      "  (4452, 7519)\t1\n",
      "  (4453, 1606)\t1\n",
      "  (4453, 6303)\t1\n",
      "  (4453, 4129)\t1\n",
      "  (4453, 3997)\t1\n",
      "  (4454, 2984)\t1\n",
      "  (4454, 3351)\t1\n",
      "  (4454, 5584)\t1\n",
      "  (4454, 5321)\t1\n",
      "  (4454, 6309)\t1\n",
      "  (4454, 6308)\t1\n",
      "  (4455, 6904)\t1\n",
      "  (4455, 4812)\t1\n",
      "  (4455, 3812)\t1\n",
      "  (4455, 5996)\t1\n",
      "  (4456, 3712)\t1\n",
      "  (4456, 3841)\t1\n",
      "  (4456, 2294)\t1\n",
      "  (4456, 3339)\t1\n",
      "  (4456, 5895)\t1\n",
      "  (4456, 6666)\t1\n",
      "  (4456, 6268)\t1\n",
      "  (4456, 4660)\t1\n"
     ]
    }
   ],
   "source": [
    "print(X_train_vectorized)"
   ]
  },
  {
   "cell_type": "code",
   "execution_count": 61,
   "id": "2e3c463d-c18f-4cb9-8c05-6ee906f03c07",
   "metadata": {},
   "outputs": [
    {
     "name": "stdout",
     "output_type": "stream",
     "text": [
      "  (0, 1196)\t1\n",
      "  (0, 1805)\t1\n",
      "  (0, 2122)\t1\n",
      "  (0, 2231)\t1\n",
      "  (0, 3094)\t1\n",
      "  (0, 3325)\t1\n",
      "  (0, 3505)\t2\n",
      "  (0, 3566)\t2\n",
      "  (0, 3712)\t1\n",
      "  (0, 4080)\t1\n",
      "  (0, 4226)\t1\n",
      "  (0, 4373)\t1\n",
      "  (0, 4639)\t1\n",
      "  (0, 4779)\t1\n",
      "  (0, 5111)\t1\n",
      "  (0, 6252)\t1\n",
      "  (0, 6811)\t1\n",
      "  (1, 927)\t1\n",
      "  (1, 961)\t1\n",
      "  (1, 1407)\t1\n",
      "  (1, 2031)\t1\n",
      "  (1, 2910)\t1\n",
      "  (1, 3404)\t2\n",
      "  (1, 3554)\t1\n",
      "  (1, 4169)\t1\n",
      "  :\t:\n",
      "  (1111, 2472)\t1\n",
      "  (1111, 2489)\t1\n",
      "  (1111, 3140)\t1\n",
      "  (1111, 3360)\t1\n",
      "  (1111, 3845)\t1\n",
      "  (1111, 4797)\t1\n",
      "  (1111, 6252)\t1\n",
      "  (1111, 7327)\t1\n",
      "  (1112, 3330)\t1\n",
      "  (1112, 4484)\t1\n",
      "  (1112, 4606)\t1\n",
      "  (1112, 6252)\t2\n",
      "  (1112, 6750)\t1\n",
      "  (1112, 6770)\t1\n",
      "  (1112, 7456)\t1\n",
      "  (1112, 7646)\t1\n",
      "  (1112, 7662)\t1\n",
      "  (1113, 1051)\t1\n",
      "  (1113, 1520)\t1\n",
      "  (1113, 1654)\t1\n",
      "  (1113, 3487)\t1\n",
      "  (1113, 5976)\t1\n",
      "  (1113, 6650)\t1\n",
      "  (1113, 6811)\t1\n",
      "  (1113, 7662)\t1\n"
     ]
    }
   ],
   "source": [
    "print(X_test_vectorized)"
   ]
  },
  {
   "cell_type": "code",
   "execution_count": 62,
   "id": "20cea618-2f41-4efb-b766-09bbdeb4e8ed",
   "metadata": {},
   "outputs": [
    {
     "data": {
      "text/html": [
       "<style>#sk-container-id-3 {color: black;background-color: white;}#sk-container-id-3 pre{padding: 0;}#sk-container-id-3 div.sk-toggleable {background-color: white;}#sk-container-id-3 label.sk-toggleable__label {cursor: pointer;display: block;width: 100%;margin-bottom: 0;padding: 0.3em;box-sizing: border-box;text-align: center;}#sk-container-id-3 label.sk-toggleable__label-arrow:before {content: \"▸\";float: left;margin-right: 0.25em;color: #696969;}#sk-container-id-3 label.sk-toggleable__label-arrow:hover:before {color: black;}#sk-container-id-3 div.sk-estimator:hover label.sk-toggleable__label-arrow:before {color: black;}#sk-container-id-3 div.sk-toggleable__content {max-height: 0;max-width: 0;overflow: hidden;text-align: left;background-color: #f0f8ff;}#sk-container-id-3 div.sk-toggleable__content pre {margin: 0.2em;color: black;border-radius: 0.25em;background-color: #f0f8ff;}#sk-container-id-3 input.sk-toggleable__control:checked~div.sk-toggleable__content {max-height: 200px;max-width: 100%;overflow: auto;}#sk-container-id-3 input.sk-toggleable__control:checked~label.sk-toggleable__label-arrow:before {content: \"▾\";}#sk-container-id-3 div.sk-estimator input.sk-toggleable__control:checked~label.sk-toggleable__label {background-color: #d4ebff;}#sk-container-id-3 div.sk-label input.sk-toggleable__control:checked~label.sk-toggleable__label {background-color: #d4ebff;}#sk-container-id-3 input.sk-hidden--visually {border: 0;clip: rect(1px 1px 1px 1px);clip: rect(1px, 1px, 1px, 1px);height: 1px;margin: -1px;overflow: hidden;padding: 0;position: absolute;width: 1px;}#sk-container-id-3 div.sk-estimator {font-family: monospace;background-color: #f0f8ff;border: 1px dotted black;border-radius: 0.25em;box-sizing: border-box;margin-bottom: 0.5em;}#sk-container-id-3 div.sk-estimator:hover {background-color: #d4ebff;}#sk-container-id-3 div.sk-parallel-item::after {content: \"\";width: 100%;border-bottom: 1px solid gray;flex-grow: 1;}#sk-container-id-3 div.sk-label:hover label.sk-toggleable__label {background-color: #d4ebff;}#sk-container-id-3 div.sk-serial::before {content: \"\";position: absolute;border-left: 1px solid gray;box-sizing: border-box;top: 0;bottom: 0;left: 50%;z-index: 0;}#sk-container-id-3 div.sk-serial {display: flex;flex-direction: column;align-items: center;background-color: white;padding-right: 0.2em;padding-left: 0.2em;position: relative;}#sk-container-id-3 div.sk-item {position: relative;z-index: 1;}#sk-container-id-3 div.sk-parallel {display: flex;align-items: stretch;justify-content: center;background-color: white;position: relative;}#sk-container-id-3 div.sk-item::before, #sk-container-id-3 div.sk-parallel-item::before {content: \"\";position: absolute;border-left: 1px solid gray;box-sizing: border-box;top: 0;bottom: 0;left: 50%;z-index: -1;}#sk-container-id-3 div.sk-parallel-item {display: flex;flex-direction: column;z-index: 1;position: relative;background-color: white;}#sk-container-id-3 div.sk-parallel-item:first-child::after {align-self: flex-end;width: 50%;}#sk-container-id-3 div.sk-parallel-item:last-child::after {align-self: flex-start;width: 50%;}#sk-container-id-3 div.sk-parallel-item:only-child::after {width: 0;}#sk-container-id-3 div.sk-dashed-wrapped {border: 1px dashed gray;margin: 0 0.4em 0.5em 0.4em;box-sizing: border-box;padding-bottom: 0.4em;background-color: white;}#sk-container-id-3 div.sk-label label {font-family: monospace;font-weight: bold;display: inline-block;line-height: 1.2em;}#sk-container-id-3 div.sk-label-container {text-align: center;}#sk-container-id-3 div.sk-container {/* jupyter's `normalize.less` sets `[hidden] { display: none; }` but bootstrap.min.css set `[hidden] { display: none !important; }` so we also need the `!important` here to be able to override the default hidden behavior on the sphinx rendered scikit-learn.org. See: https://github.com/scikit-learn/scikit-learn/issues/21755 */display: inline-block !important;position: relative;}#sk-container-id-3 div.sk-text-repr-fallback {display: none;}</style><div id=\"sk-container-id-3\" class=\"sk-top-container\"><div class=\"sk-text-repr-fallback\"><pre>LogisticRegression()</pre><b>In a Jupyter environment, please rerun this cell to show the HTML representation or trust the notebook. <br />On GitHub, the HTML representation is unable to render, please try loading this page with nbviewer.org.</b></div><div class=\"sk-container\" hidden><div class=\"sk-item\"><div class=\"sk-estimator sk-toggleable\"><input class=\"sk-toggleable__control sk-hidden--visually\" id=\"sk-estimator-id-3\" type=\"checkbox\" checked><label for=\"sk-estimator-id-3\" class=\"sk-toggleable__label sk-toggleable__label-arrow\">LogisticRegression</label><div class=\"sk-toggleable__content\"><pre>LogisticRegression()</pre></div></div></div></div></div>"
      ],
      "text/plain": [
       "LogisticRegression()"
      ]
     },
     "execution_count": 62,
     "metadata": {},
     "output_type": "execute_result"
    }
   ],
   "source": [
    "# Train a Logistic Regression classifier\n",
    "clf = LogisticRegression()\n",
    "clf.fit(X_train_vectorized, y_train)"
   ]
  },
  {
   "cell_type": "code",
   "execution_count": 63,
   "id": "25cae913-5138-457d-8e12-f884a928f789",
   "metadata": {},
   "outputs": [],
   "source": [
    "predictions = clf.predict(X_test_vectorized)\n"
   ]
  },
  {
   "cell_type": "code",
   "execution_count": 64,
   "id": "17dbb0c0-5024-4e07-86c8-36292fc96ef8",
   "metadata": {},
   "outputs": [
    {
     "name": "stdout",
     "output_type": "stream",
     "text": [
      "Accuracy: 0.9865470852017937\n",
      "Confusion Matrix:\n",
      "[[966   0]\n",
      " [ 15 134]]\n",
      "Classification Report:\n",
      "              precision    recall  f1-score   support\n",
      "\n",
      "         ham       0.98      1.00      0.99       966\n",
      "        spam       1.00      0.90      0.95       149\n",
      "\n",
      "    accuracy                           0.99      1115\n",
      "   macro avg       0.99      0.95      0.97      1115\n",
      "weighted avg       0.99      0.99      0.99      1115\n",
      "\n"
     ]
    }
   ],
   "source": [
    "accuracy = accuracy_score(y_test, predictions)\n",
    "conf_matrix = confusion_matrix(y_test, predictions)\n",
    "classification_rep = classification_report(y_test, predictions)\n",
    "\n",
    "print(f'Accuracy: {accuracy}')\n",
    "print(f'Confusion Matrix:\\n{conf_matrix}')\n",
    "print(f'Classification Report:\\n{classification_rep}')\n"
   ]
  },
  {
   "cell_type": "code",
   "execution_count": null,
   "id": "73d3326d-0c63-4c46-a505-59359b27e8ee",
   "metadata": {},
   "outputs": [],
   "source": []
  }
 ],
 "metadata": {
  "kernelspec": {
   "display_name": "Python 3 (ipykernel)",
   "language": "python",
   "name": "python3"
  },
  "language_info": {
   "codemirror_mode": {
    "name": "ipython",
    "version": 3
   },
   "file_extension": ".py",
   "mimetype": "text/x-python",
   "name": "python",
   "nbconvert_exporter": "python",
   "pygments_lexer": "ipython3",
   "version": "3.11.7"
  }
 },
 "nbformat": 4,
 "nbformat_minor": 5
}
